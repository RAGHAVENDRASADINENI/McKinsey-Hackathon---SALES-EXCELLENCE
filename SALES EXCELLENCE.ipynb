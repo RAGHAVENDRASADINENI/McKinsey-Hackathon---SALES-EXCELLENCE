{
 "cells": [
  {
   "cell_type": "code",
   "execution_count": 1,
   "id": "1f322904",
   "metadata": {},
   "outputs": [],
   "source": [
    "import pandas as pd\n",
    "import numpy as np\n",
    "import matplotlib.pyplot as plt\n",
    "%matplotlib inline\n",
    "import seaborn as sns\n",
    "from sklearn.metrics import classification_report\n",
    "from sklearn.metrics import RocCurveDisplay\n",
    "from sklearn.model_selection import cross_val_score"
   ]
  },
  {
   "cell_type": "code",
   "execution_count": 2,
   "id": "441dca32",
   "metadata": {},
   "outputs": [
    {
     "name": "stdout",
     "output_type": "stream",
     "text": [
      "C:\\Users\\sadin\\Desktop\\IMARTICUS\\PYTHON\\MY DATA SETS\\SALES EXCELLENCE\n"
     ]
    }
   ],
   "source": [
    "import io\n",
    "%cd \"C:\\Users\\sadin\\Desktop\\IMARTICUS\\PYTHON\\MY DATA SETS\\SALES EXCELLENCE\""
   ]
  },
  {
   "cell_type": "code",
   "execution_count": 3,
   "id": "8a98c17c",
   "metadata": {},
   "outputs": [],
   "source": [
    "sales_train=pd.read_csv(\"train.csv\")\n",
    "sales_test=pd.read_csv(\"test.csv\")"
   ]
  },
  {
   "cell_type": "markdown",
   "id": "c0fa6590",
   "metadata": {},
   "source": [
    "# EXPLORING DATA"
   ]
  },
  {
   "cell_type": "code",
   "execution_count": 4,
   "id": "e4d9e3f8",
   "metadata": {},
   "outputs": [
    {
     "name": "stdout",
     "output_type": "stream",
     "text": [
      "<class 'pandas.core.frame.DataFrame'>\n",
      "RangeIndex: 30037 entries, 0 to 30036\n",
      "Data columns (total 21 columns):\n",
      " #   Column                               Non-Null Count  Dtype  \n",
      "---  ------                               --------------  -----  \n",
      " 0   ID                                   30037 non-null  object \n",
      " 1   Gender                               30037 non-null  object \n",
      " 2   DOB                                  30034 non-null  object \n",
      " 3   Lead_Creation_Date                   30037 non-null  object \n",
      " 4   City_Code                            29723 non-null  object \n",
      " 5   City_Category                        29723 non-null  object \n",
      " 6   Employer_Code                        28432 non-null  object \n",
      " 7   Employer_Category1                   28432 non-null  object \n",
      " 8   Employer_Category2                   28342 non-null  float64\n",
      " 9   Monthly_Income                       30037 non-null  float64\n",
      " 10  Customer_Existing_Primary_Bank_Code  26000 non-null  object \n",
      " 11  Primary_Bank_Type                    26000 non-null  object \n",
      " 12  Contacted                            30037 non-null  object \n",
      " 13  Source                               30037 non-null  object \n",
      " 14  Source_Category                      30037 non-null  object \n",
      " 15  Existing_EMI                         30005 non-null  float64\n",
      " 16  Loan_Amount                          18166 non-null  float64\n",
      " 17  Loan_Period                          18166 non-null  float64\n",
      " 18  Interest_Rate                        9652 non-null   float64\n",
      " 19  EMI                                  9652 non-null   float64\n",
      " 20  Var1                                 30037 non-null  int64  \n",
      "dtypes: float64(7), int64(1), object(13)\n",
      "memory usage: 4.8+ MB\n",
      "None\n",
      "<class 'pandas.core.frame.DataFrame'>\n",
      "RangeIndex: 69713 entries, 0 to 69712\n",
      "Data columns (total 22 columns):\n",
      " #   Column                               Non-Null Count  Dtype  \n",
      "---  ------                               --------------  -----  \n",
      " 0   ID                                   69713 non-null  object \n",
      " 1   Gender                               69713 non-null  object \n",
      " 2   DOB                                  69698 non-null  object \n",
      " 3   Lead_Creation_Date                   69713 non-null  object \n",
      " 4   City_Code                            68899 non-null  object \n",
      " 5   City_Category                        68899 non-null  object \n",
      " 6   Employer_Code                        65695 non-null  object \n",
      " 7   Employer_Category1                   65695 non-null  object \n",
      " 8   Employer_Category2                   65415 non-null  float64\n",
      " 9   Monthly_Income                       69713 non-null  float64\n",
      " 10  Customer_Existing_Primary_Bank_Code  60322 non-null  object \n",
      " 11  Primary_Bank_Type                    60322 non-null  object \n",
      " 12  Contacted                            69713 non-null  object \n",
      " 13  Source                               69713 non-null  object \n",
      " 14  Source_Category                      69713 non-null  object \n",
      " 15  Existing_EMI                         69662 non-null  float64\n",
      " 16  Loan_Amount                          42004 non-null  float64\n",
      " 17  Loan_Period                          42004 non-null  float64\n",
      " 18  Interest_Rate                        22276 non-null  float64\n",
      " 19  EMI                                  22276 non-null  float64\n",
      " 20  Var1                                 69713 non-null  int64  \n",
      " 21  Approved                             69713 non-null  int64  \n",
      "dtypes: float64(7), int64(2), object(13)\n",
      "memory usage: 11.7+ MB\n",
      "None\n"
     ]
    }
   ],
   "source": [
    "print(sales_test.info())\n",
    "print(sales_train.info())"
   ]
  },
  {
   "cell_type": "code",
   "execution_count": 5,
   "id": "04e21785",
   "metadata": {},
   "outputs": [
    {
     "name": "stdout",
     "output_type": "stream",
     "text": [
      "(30037, 21)\n",
      "(69713, 22)\n"
     ]
    }
   ],
   "source": [
    "print(sales_test.shape)\n",
    "print(sales_train.shape)"
   ]
  },
  {
   "cell_type": "code",
   "execution_count": 6,
   "id": "8824ebaa",
   "metadata": {},
   "outputs": [
    {
     "data": {
      "text/html": [
       "<div>\n",
       "<style scoped>\n",
       "    .dataframe tbody tr th:only-of-type {\n",
       "        vertical-align: middle;\n",
       "    }\n",
       "\n",
       "    .dataframe tbody tr th {\n",
       "        vertical-align: top;\n",
       "    }\n",
       "\n",
       "    .dataframe thead th {\n",
       "        text-align: right;\n",
       "    }\n",
       "</style>\n",
       "<table border=\"1\" class=\"dataframe\">\n",
       "  <thead>\n",
       "    <tr style=\"text-align: right;\">\n",
       "      <th></th>\n",
       "      <th>ID</th>\n",
       "      <th>Gender</th>\n",
       "      <th>DOB</th>\n",
       "      <th>Lead_Creation_Date</th>\n",
       "      <th>City_Code</th>\n",
       "      <th>City_Category</th>\n",
       "      <th>Employer_Code</th>\n",
       "      <th>Employer_Category1</th>\n",
       "      <th>Employer_Category2</th>\n",
       "      <th>Monthly_Income</th>\n",
       "      <th>...</th>\n",
       "      <th>Primary_Bank_Type</th>\n",
       "      <th>Contacted</th>\n",
       "      <th>Source</th>\n",
       "      <th>Source_Category</th>\n",
       "      <th>Existing_EMI</th>\n",
       "      <th>Loan_Amount</th>\n",
       "      <th>Loan_Period</th>\n",
       "      <th>Interest_Rate</th>\n",
       "      <th>EMI</th>\n",
       "      <th>Var1</th>\n",
       "    </tr>\n",
       "  </thead>\n",
       "  <tbody>\n",
       "    <tr>\n",
       "      <th>0</th>\n",
       "      <td>APPA70109647212</td>\n",
       "      <td>Male</td>\n",
       "      <td>03/06/88</td>\n",
       "      <td>05/07/16</td>\n",
       "      <td>C10028</td>\n",
       "      <td>C</td>\n",
       "      <td>COM0002222</td>\n",
       "      <td>A</td>\n",
       "      <td>4.0</td>\n",
       "      <td>2150.0</td>\n",
       "      <td>...</td>\n",
       "      <td>P</td>\n",
       "      <td>Y</td>\n",
       "      <td>S122</td>\n",
       "      <td>B</td>\n",
       "      <td>0.0</td>\n",
       "      <td>10000.0</td>\n",
       "      <td>3.0</td>\n",
       "      <td>20.0</td>\n",
       "      <td>372.0</td>\n",
       "      <td>4</td>\n",
       "    </tr>\n",
       "    <tr>\n",
       "      <th>1</th>\n",
       "      <td>APPB10687939341</td>\n",
       "      <td>Male</td>\n",
       "      <td>13/07/81</td>\n",
       "      <td>01/07/16</td>\n",
       "      <td>C10003</td>\n",
       "      <td>A</td>\n",
       "      <td>COM0001784</td>\n",
       "      <td>C</td>\n",
       "      <td>4.0</td>\n",
       "      <td>4200.0</td>\n",
       "      <td>...</td>\n",
       "      <td>P</td>\n",
       "      <td>Y</td>\n",
       "      <td>S133</td>\n",
       "      <td>C</td>\n",
       "      <td>0.0</td>\n",
       "      <td>69000.0</td>\n",
       "      <td>5.0</td>\n",
       "      <td>24.0</td>\n",
       "      <td>1985.0</td>\n",
       "      <td>7</td>\n",
       "    </tr>\n",
       "    <tr>\n",
       "      <th>2</th>\n",
       "      <td>APPC80449411414</td>\n",
       "      <td>Female</td>\n",
       "      <td>19/11/90</td>\n",
       "      <td>01/07/16</td>\n",
       "      <td>C10009</td>\n",
       "      <td>B</td>\n",
       "      <td>COM0045260</td>\n",
       "      <td>B</td>\n",
       "      <td>4.0</td>\n",
       "      <td>1000.0</td>\n",
       "      <td>...</td>\n",
       "      <td>P</td>\n",
       "      <td>N</td>\n",
       "      <td>S133</td>\n",
       "      <td>B</td>\n",
       "      <td>0.0</td>\n",
       "      <td>NaN</td>\n",
       "      <td>NaN</td>\n",
       "      <td>NaN</td>\n",
       "      <td>NaN</td>\n",
       "      <td>0</td>\n",
       "    </tr>\n",
       "    <tr>\n",
       "      <th>3</th>\n",
       "      <td>APPD30665094501</td>\n",
       "      <td>Female</td>\n",
       "      <td>15/10/92</td>\n",
       "      <td>01/07/16</td>\n",
       "      <td>C10005</td>\n",
       "      <td>A</td>\n",
       "      <td>COM0000085</td>\n",
       "      <td>A</td>\n",
       "      <td>3.0</td>\n",
       "      <td>1465.0</td>\n",
       "      <td>...</td>\n",
       "      <td>P</td>\n",
       "      <td>N</td>\n",
       "      <td>S133</td>\n",
       "      <td>C</td>\n",
       "      <td>0.0</td>\n",
       "      <td>NaN</td>\n",
       "      <td>NaN</td>\n",
       "      <td>NaN</td>\n",
       "      <td>NaN</td>\n",
       "      <td>0</td>\n",
       "    </tr>\n",
       "    <tr>\n",
       "      <th>4</th>\n",
       "      <td>APPE80379821637</td>\n",
       "      <td>Male</td>\n",
       "      <td>21/09/88</td>\n",
       "      <td>01/07/16</td>\n",
       "      <td>C10005</td>\n",
       "      <td>A</td>\n",
       "      <td>COM0006422</td>\n",
       "      <td>A</td>\n",
       "      <td>4.0</td>\n",
       "      <td>2340.0</td>\n",
       "      <td>...</td>\n",
       "      <td>P</td>\n",
       "      <td>Y</td>\n",
       "      <td>S143</td>\n",
       "      <td>B</td>\n",
       "      <td>500.0</td>\n",
       "      <td>10000.0</td>\n",
       "      <td>2.0</td>\n",
       "      <td>NaN</td>\n",
       "      <td>NaN</td>\n",
       "      <td>0</td>\n",
       "    </tr>\n",
       "  </tbody>\n",
       "</table>\n",
       "<p>5 rows × 21 columns</p>\n",
       "</div>"
      ],
      "text/plain": [
       "                ID  Gender       DOB Lead_Creation_Date City_Code  \\\n",
       "0  APPA70109647212    Male  03/06/88           05/07/16    C10028   \n",
       "1  APPB10687939341    Male  13/07/81           01/07/16    C10003   \n",
       "2  APPC80449411414  Female  19/11/90           01/07/16    C10009   \n",
       "3  APPD30665094501  Female  15/10/92           01/07/16    C10005   \n",
       "4  APPE80379821637    Male  21/09/88           01/07/16    C10005   \n",
       "\n",
       "  City_Category Employer_Code Employer_Category1  Employer_Category2  \\\n",
       "0             C    COM0002222                  A                 4.0   \n",
       "1             A    COM0001784                  C                 4.0   \n",
       "2             B    COM0045260                  B                 4.0   \n",
       "3             A    COM0000085                  A                 3.0   \n",
       "4             A    COM0006422                  A                 4.0   \n",
       "\n",
       "   Monthly_Income  ... Primary_Bank_Type Contacted Source Source_Category  \\\n",
       "0          2150.0  ...                 P         Y   S122               B   \n",
       "1          4200.0  ...                 P         Y   S133               C   \n",
       "2          1000.0  ...                 P         N   S133               B   \n",
       "3          1465.0  ...                 P         N   S133               C   \n",
       "4          2340.0  ...                 P         Y   S143               B   \n",
       "\n",
       "  Existing_EMI  Loan_Amount  Loan_Period  Interest_Rate     EMI  Var1  \n",
       "0          0.0      10000.0          3.0           20.0   372.0     4  \n",
       "1          0.0      69000.0          5.0           24.0  1985.0     7  \n",
       "2          0.0          NaN          NaN            NaN     NaN     0  \n",
       "3          0.0          NaN          NaN            NaN     NaN     0  \n",
       "4        500.0      10000.0          2.0            NaN     NaN     0  \n",
       "\n",
       "[5 rows x 21 columns]"
      ]
     },
     "execution_count": 6,
     "metadata": {},
     "output_type": "execute_result"
    }
   ],
   "source": [
    "sales_test.head()"
   ]
  },
  {
   "cell_type": "code",
   "execution_count": 7,
   "id": "c8ab609b",
   "metadata": {},
   "outputs": [
    {
     "data": {
      "text/html": [
       "<div>\n",
       "<style scoped>\n",
       "    .dataframe tbody tr th:only-of-type {\n",
       "        vertical-align: middle;\n",
       "    }\n",
       "\n",
       "    .dataframe tbody tr th {\n",
       "        vertical-align: top;\n",
       "    }\n",
       "\n",
       "    .dataframe thead th {\n",
       "        text-align: right;\n",
       "    }\n",
       "</style>\n",
       "<table border=\"1\" class=\"dataframe\">\n",
       "  <thead>\n",
       "    <tr style=\"text-align: right;\">\n",
       "      <th></th>\n",
       "      <th>ID</th>\n",
       "      <th>Gender</th>\n",
       "      <th>DOB</th>\n",
       "      <th>Lead_Creation_Date</th>\n",
       "      <th>City_Code</th>\n",
       "      <th>City_Category</th>\n",
       "      <th>Employer_Code</th>\n",
       "      <th>Employer_Category1</th>\n",
       "      <th>Employer_Category2</th>\n",
       "      <th>Monthly_Income</th>\n",
       "      <th>...</th>\n",
       "      <th>Contacted</th>\n",
       "      <th>Source</th>\n",
       "      <th>Source_Category</th>\n",
       "      <th>Existing_EMI</th>\n",
       "      <th>Loan_Amount</th>\n",
       "      <th>Loan_Period</th>\n",
       "      <th>Interest_Rate</th>\n",
       "      <th>EMI</th>\n",
       "      <th>Var1</th>\n",
       "      <th>Approved</th>\n",
       "    </tr>\n",
       "  </thead>\n",
       "  <tbody>\n",
       "    <tr>\n",
       "      <th>0</th>\n",
       "      <td>APPC90493171225</td>\n",
       "      <td>Female</td>\n",
       "      <td>23/07/79</td>\n",
       "      <td>15/07/16</td>\n",
       "      <td>C10001</td>\n",
       "      <td>A</td>\n",
       "      <td>COM0044082</td>\n",
       "      <td>A</td>\n",
       "      <td>4.0</td>\n",
       "      <td>2000.0</td>\n",
       "      <td>...</td>\n",
       "      <td>N</td>\n",
       "      <td>S122</td>\n",
       "      <td>G</td>\n",
       "      <td>0.0</td>\n",
       "      <td>NaN</td>\n",
       "      <td>NaN</td>\n",
       "      <td>NaN</td>\n",
       "      <td>NaN</td>\n",
       "      <td>0</td>\n",
       "      <td>0</td>\n",
       "    </tr>\n",
       "    <tr>\n",
       "      <th>1</th>\n",
       "      <td>APPD40611263344</td>\n",
       "      <td>Male</td>\n",
       "      <td>07/12/86</td>\n",
       "      <td>04/07/16</td>\n",
       "      <td>C10003</td>\n",
       "      <td>A</td>\n",
       "      <td>COM0000002</td>\n",
       "      <td>C</td>\n",
       "      <td>1.0</td>\n",
       "      <td>3500.0</td>\n",
       "      <td>...</td>\n",
       "      <td>Y</td>\n",
       "      <td>S122</td>\n",
       "      <td>G</td>\n",
       "      <td>0.0</td>\n",
       "      <td>20000.0</td>\n",
       "      <td>2.0</td>\n",
       "      <td>13.25</td>\n",
       "      <td>953.0</td>\n",
       "      <td>10</td>\n",
       "      <td>0</td>\n",
       "    </tr>\n",
       "    <tr>\n",
       "      <th>2</th>\n",
       "      <td>APPE70289249423</td>\n",
       "      <td>Male</td>\n",
       "      <td>10/12/82</td>\n",
       "      <td>19/07/16</td>\n",
       "      <td>C10125</td>\n",
       "      <td>C</td>\n",
       "      <td>COM0005267</td>\n",
       "      <td>C</td>\n",
       "      <td>4.0</td>\n",
       "      <td>2250.0</td>\n",
       "      <td>...</td>\n",
       "      <td>Y</td>\n",
       "      <td>S143</td>\n",
       "      <td>B</td>\n",
       "      <td>0.0</td>\n",
       "      <td>45000.0</td>\n",
       "      <td>4.0</td>\n",
       "      <td>NaN</td>\n",
       "      <td>NaN</td>\n",
       "      <td>0</td>\n",
       "      <td>0</td>\n",
       "    </tr>\n",
       "    <tr>\n",
       "      <th>3</th>\n",
       "      <td>APPF80273865537</td>\n",
       "      <td>Male</td>\n",
       "      <td>30/01/89</td>\n",
       "      <td>09/07/16</td>\n",
       "      <td>C10477</td>\n",
       "      <td>C</td>\n",
       "      <td>COM0004143</td>\n",
       "      <td>A</td>\n",
       "      <td>4.0</td>\n",
       "      <td>3500.0</td>\n",
       "      <td>...</td>\n",
       "      <td>Y</td>\n",
       "      <td>S143</td>\n",
       "      <td>B</td>\n",
       "      <td>0.0</td>\n",
       "      <td>92000.0</td>\n",
       "      <td>5.0</td>\n",
       "      <td>NaN</td>\n",
       "      <td>NaN</td>\n",
       "      <td>7</td>\n",
       "      <td>0</td>\n",
       "    </tr>\n",
       "    <tr>\n",
       "      <th>4</th>\n",
       "      <td>APPG60994436641</td>\n",
       "      <td>Male</td>\n",
       "      <td>19/04/85</td>\n",
       "      <td>20/07/16</td>\n",
       "      <td>C10002</td>\n",
       "      <td>A</td>\n",
       "      <td>COM0001781</td>\n",
       "      <td>A</td>\n",
       "      <td>4.0</td>\n",
       "      <td>10000.0</td>\n",
       "      <td>...</td>\n",
       "      <td>Y</td>\n",
       "      <td>S134</td>\n",
       "      <td>B</td>\n",
       "      <td>2500.0</td>\n",
       "      <td>50000.0</td>\n",
       "      <td>2.0</td>\n",
       "      <td>NaN</td>\n",
       "      <td>NaN</td>\n",
       "      <td>10</td>\n",
       "      <td>0</td>\n",
       "    </tr>\n",
       "  </tbody>\n",
       "</table>\n",
       "<p>5 rows × 22 columns</p>\n",
       "</div>"
      ],
      "text/plain": [
       "                ID  Gender       DOB Lead_Creation_Date City_Code  \\\n",
       "0  APPC90493171225  Female  23/07/79           15/07/16    C10001   \n",
       "1  APPD40611263344    Male  07/12/86           04/07/16    C10003   \n",
       "2  APPE70289249423    Male  10/12/82           19/07/16    C10125   \n",
       "3  APPF80273865537    Male  30/01/89           09/07/16    C10477   \n",
       "4  APPG60994436641    Male  19/04/85           20/07/16    C10002   \n",
       "\n",
       "  City_Category Employer_Code Employer_Category1  Employer_Category2  \\\n",
       "0             A    COM0044082                  A                 4.0   \n",
       "1             A    COM0000002                  C                 1.0   \n",
       "2             C    COM0005267                  C                 4.0   \n",
       "3             C    COM0004143                  A                 4.0   \n",
       "4             A    COM0001781                  A                 4.0   \n",
       "\n",
       "   Monthly_Income  ... Contacted Source Source_Category Existing_EMI  \\\n",
       "0          2000.0  ...         N   S122               G          0.0   \n",
       "1          3500.0  ...         Y   S122               G          0.0   \n",
       "2          2250.0  ...         Y   S143               B          0.0   \n",
       "3          3500.0  ...         Y   S143               B          0.0   \n",
       "4         10000.0  ...         Y   S134               B       2500.0   \n",
       "\n",
       "  Loan_Amount  Loan_Period  Interest_Rate    EMI  Var1  Approved  \n",
       "0         NaN          NaN            NaN    NaN     0         0  \n",
       "1     20000.0          2.0          13.25  953.0    10         0  \n",
       "2     45000.0          4.0            NaN    NaN     0         0  \n",
       "3     92000.0          5.0            NaN    NaN     7         0  \n",
       "4     50000.0          2.0            NaN    NaN    10         0  \n",
       "\n",
       "[5 rows x 22 columns]"
      ]
     },
     "execution_count": 7,
     "metadata": {},
     "output_type": "execute_result"
    }
   ],
   "source": [
    "sales_train.head()"
   ]
  },
  {
   "cell_type": "code",
   "execution_count": 8,
   "id": "e05089f6",
   "metadata": {},
   "outputs": [
    {
     "data": {
      "text/html": [
       "<div>\n",
       "<style scoped>\n",
       "    .dataframe tbody tr th:only-of-type {\n",
       "        vertical-align: middle;\n",
       "    }\n",
       "\n",
       "    .dataframe tbody tr th {\n",
       "        vertical-align: top;\n",
       "    }\n",
       "\n",
       "    .dataframe thead th {\n",
       "        text-align: right;\n",
       "    }\n",
       "</style>\n",
       "<table border=\"1\" class=\"dataframe\">\n",
       "  <thead>\n",
       "    <tr style=\"text-align: right;\">\n",
       "      <th></th>\n",
       "      <th>Employer_Category2</th>\n",
       "      <th>Monthly_Income</th>\n",
       "      <th>Existing_EMI</th>\n",
       "      <th>Loan_Amount</th>\n",
       "      <th>Loan_Period</th>\n",
       "      <th>Interest_Rate</th>\n",
       "      <th>EMI</th>\n",
       "      <th>Var1</th>\n",
       "    </tr>\n",
       "  </thead>\n",
       "  <tbody>\n",
       "    <tr>\n",
       "      <th>count</th>\n",
       "      <td>28342.000000</td>\n",
       "      <td>3.003700e+04</td>\n",
       "      <td>30005.000000</td>\n",
       "      <td>18166.000000</td>\n",
       "      <td>18166.000000</td>\n",
       "      <td>9652.000000</td>\n",
       "      <td>9652.000000</td>\n",
       "      <td>30037.000000</td>\n",
       "    </tr>\n",
       "    <tr>\n",
       "      <th>mean</th>\n",
       "      <td>3.728248</td>\n",
       "      <td>3.977139e+03</td>\n",
       "      <td>348.909060</td>\n",
       "      <td>39482.990201</td>\n",
       "      <td>3.903116</td>\n",
       "      <td>19.280537</td>\n",
       "      <td>1094.914836</td>\n",
       "      <td>3.962313</td>\n",
       "    </tr>\n",
       "    <tr>\n",
       "      <th>std</th>\n",
       "      <td>0.794883</td>\n",
       "      <td>2.328960e+04</td>\n",
       "      <td>1000.816847</td>\n",
       "      <td>30527.865594</td>\n",
       "      <td>1.150820</td>\n",
       "      <td>5.882246</td>\n",
       "      <td>727.452303</td>\n",
       "      <td>3.821020</td>\n",
       "    </tr>\n",
       "    <tr>\n",
       "      <th>min</th>\n",
       "      <td>1.000000</td>\n",
       "      <td>0.000000e+00</td>\n",
       "      <td>0.000000</td>\n",
       "      <td>5000.000000</td>\n",
       "      <td>1.000000</td>\n",
       "      <td>11.990000</td>\n",
       "      <td>118.000000</td>\n",
       "      <td>0.000000</td>\n",
       "    </tr>\n",
       "    <tr>\n",
       "      <th>25%</th>\n",
       "      <td>4.000000</td>\n",
       "      <td>1.650000e+03</td>\n",
       "      <td>0.000000</td>\n",
       "      <td>20000.000000</td>\n",
       "      <td>3.000000</td>\n",
       "      <td>15.250000</td>\n",
       "      <td>625.000000</td>\n",
       "      <td>0.000000</td>\n",
       "    </tr>\n",
       "    <tr>\n",
       "      <th>50%</th>\n",
       "      <td>4.000000</td>\n",
       "      <td>2.500000e+03</td>\n",
       "      <td>0.000000</td>\n",
       "      <td>30000.000000</td>\n",
       "      <td>4.000000</td>\n",
       "      <td>18.000000</td>\n",
       "      <td>946.000000</td>\n",
       "      <td>2.000000</td>\n",
       "    </tr>\n",
       "    <tr>\n",
       "      <th>75%</th>\n",
       "      <td>4.000000</td>\n",
       "      <td>4.000000e+03</td>\n",
       "      <td>350.000000</td>\n",
       "      <td>50000.000000</td>\n",
       "      <td>5.000000</td>\n",
       "      <td>20.000000</td>\n",
       "      <td>1291.000000</td>\n",
       "      <td>7.000000</td>\n",
       "    </tr>\n",
       "    <tr>\n",
       "      <th>max</th>\n",
       "      <td>4.000000</td>\n",
       "      <td>3.500000e+06</td>\n",
       "      <td>43000.000000</td>\n",
       "      <td>300000.000000</td>\n",
       "      <td>6.000000</td>\n",
       "      <td>37.000000</td>\n",
       "      <td>6979.000000</td>\n",
       "      <td>10.000000</td>\n",
       "    </tr>\n",
       "  </tbody>\n",
       "</table>\n",
       "</div>"
      ],
      "text/plain": [
       "       Employer_Category2  Monthly_Income  Existing_EMI    Loan_Amount  \\\n",
       "count        28342.000000    3.003700e+04  30005.000000   18166.000000   \n",
       "mean             3.728248    3.977139e+03    348.909060   39482.990201   \n",
       "std              0.794883    2.328960e+04   1000.816847   30527.865594   \n",
       "min              1.000000    0.000000e+00      0.000000    5000.000000   \n",
       "25%              4.000000    1.650000e+03      0.000000   20000.000000   \n",
       "50%              4.000000    2.500000e+03      0.000000   30000.000000   \n",
       "75%              4.000000    4.000000e+03    350.000000   50000.000000   \n",
       "max              4.000000    3.500000e+06  43000.000000  300000.000000   \n",
       "\n",
       "        Loan_Period  Interest_Rate          EMI          Var1  \n",
       "count  18166.000000    9652.000000  9652.000000  30037.000000  \n",
       "mean       3.903116      19.280537  1094.914836      3.962313  \n",
       "std        1.150820       5.882246   727.452303      3.821020  \n",
       "min        1.000000      11.990000   118.000000      0.000000  \n",
       "25%        3.000000      15.250000   625.000000      0.000000  \n",
       "50%        4.000000      18.000000   946.000000      2.000000  \n",
       "75%        5.000000      20.000000  1291.000000      7.000000  \n",
       "max        6.000000      37.000000  6979.000000     10.000000  "
      ]
     },
     "execution_count": 8,
     "metadata": {},
     "output_type": "execute_result"
    }
   ],
   "source": [
    "sales_test.describe()"
   ]
  },
  {
   "cell_type": "code",
   "execution_count": 9,
   "id": "f4213927",
   "metadata": {},
   "outputs": [
    {
     "data": {
      "text/html": [
       "<div>\n",
       "<style scoped>\n",
       "    .dataframe tbody tr th:only-of-type {\n",
       "        vertical-align: middle;\n",
       "    }\n",
       "\n",
       "    .dataframe tbody tr th {\n",
       "        vertical-align: top;\n",
       "    }\n",
       "\n",
       "    .dataframe thead th {\n",
       "        text-align: right;\n",
       "    }\n",
       "</style>\n",
       "<table border=\"1\" class=\"dataframe\">\n",
       "  <thead>\n",
       "    <tr style=\"text-align: right;\">\n",
       "      <th></th>\n",
       "      <th>Employer_Category2</th>\n",
       "      <th>Monthly_Income</th>\n",
       "      <th>Existing_EMI</th>\n",
       "      <th>Loan_Amount</th>\n",
       "      <th>Loan_Period</th>\n",
       "      <th>Interest_Rate</th>\n",
       "      <th>EMI</th>\n",
       "      <th>Var1</th>\n",
       "      <th>Approved</th>\n",
       "    </tr>\n",
       "  </thead>\n",
       "  <tbody>\n",
       "    <tr>\n",
       "      <th>count</th>\n",
       "      <td>65415.000000</td>\n",
       "      <td>6.971300e+04</td>\n",
       "      <td>69662.000000</td>\n",
       "      <td>42004.000000</td>\n",
       "      <td>42004.000000</td>\n",
       "      <td>22276.000000</td>\n",
       "      <td>22276.000000</td>\n",
       "      <td>69713.000000</td>\n",
       "      <td>69713.000000</td>\n",
       "    </tr>\n",
       "    <tr>\n",
       "      <th>mean</th>\n",
       "      <td>3.720187</td>\n",
       "      <td>5.622283e+03</td>\n",
       "      <td>360.928751</td>\n",
       "      <td>39429.982859</td>\n",
       "      <td>3.890629</td>\n",
       "      <td>19.213570</td>\n",
       "      <td>1101.466242</td>\n",
       "      <td>3.948446</td>\n",
       "      <td>0.014631</td>\n",
       "    </tr>\n",
       "    <tr>\n",
       "      <th>std</th>\n",
       "      <td>0.807374</td>\n",
       "      <td>1.747671e+05</td>\n",
       "      <td>2288.517927</td>\n",
       "      <td>30727.595990</td>\n",
       "      <td>1.167491</td>\n",
       "      <td>5.847136</td>\n",
       "      <td>752.661394</td>\n",
       "      <td>3.819214</td>\n",
       "      <td>0.120073</td>\n",
       "    </tr>\n",
       "    <tr>\n",
       "      <th>min</th>\n",
       "      <td>1.000000</td>\n",
       "      <td>0.000000e+00</td>\n",
       "      <td>0.000000</td>\n",
       "      <td>5000.000000</td>\n",
       "      <td>1.000000</td>\n",
       "      <td>11.990000</td>\n",
       "      <td>118.000000</td>\n",
       "      <td>0.000000</td>\n",
       "      <td>0.000000</td>\n",
       "    </tr>\n",
       "    <tr>\n",
       "      <th>25%</th>\n",
       "      <td>4.000000</td>\n",
       "      <td>1.650000e+03</td>\n",
       "      <td>0.000000</td>\n",
       "      <td>20000.000000</td>\n",
       "      <td>3.000000</td>\n",
       "      <td>15.250000</td>\n",
       "      <td>649.000000</td>\n",
       "      <td>0.000000</td>\n",
       "      <td>0.000000</td>\n",
       "    </tr>\n",
       "    <tr>\n",
       "      <th>50%</th>\n",
       "      <td>4.000000</td>\n",
       "      <td>2.500000e+03</td>\n",
       "      <td>0.000000</td>\n",
       "      <td>30000.000000</td>\n",
       "      <td>4.000000</td>\n",
       "      <td>18.000000</td>\n",
       "      <td>941.000000</td>\n",
       "      <td>2.000000</td>\n",
       "      <td>0.000000</td>\n",
       "    </tr>\n",
       "    <tr>\n",
       "      <th>75%</th>\n",
       "      <td>4.000000</td>\n",
       "      <td>4.000000e+03</td>\n",
       "      <td>350.000000</td>\n",
       "      <td>50000.000000</td>\n",
       "      <td>5.000000</td>\n",
       "      <td>20.000000</td>\n",
       "      <td>1295.000000</td>\n",
       "      <td>7.000000</td>\n",
       "      <td>0.000000</td>\n",
       "    </tr>\n",
       "    <tr>\n",
       "      <th>max</th>\n",
       "      <td>4.000000</td>\n",
       "      <td>3.838384e+07</td>\n",
       "      <td>545436.500000</td>\n",
       "      <td>300000.000000</td>\n",
       "      <td>6.000000</td>\n",
       "      <td>37.000000</td>\n",
       "      <td>13556.000000</td>\n",
       "      <td>10.000000</td>\n",
       "      <td>1.000000</td>\n",
       "    </tr>\n",
       "  </tbody>\n",
       "</table>\n",
       "</div>"
      ],
      "text/plain": [
       "       Employer_Category2  Monthly_Income   Existing_EMI    Loan_Amount  \\\n",
       "count        65415.000000    6.971300e+04   69662.000000   42004.000000   \n",
       "mean             3.720187    5.622283e+03     360.928751   39429.982859   \n",
       "std              0.807374    1.747671e+05    2288.517927   30727.595990   \n",
       "min              1.000000    0.000000e+00       0.000000    5000.000000   \n",
       "25%              4.000000    1.650000e+03       0.000000   20000.000000   \n",
       "50%              4.000000    2.500000e+03       0.000000   30000.000000   \n",
       "75%              4.000000    4.000000e+03     350.000000   50000.000000   \n",
       "max              4.000000    3.838384e+07  545436.500000  300000.000000   \n",
       "\n",
       "        Loan_Period  Interest_Rate           EMI          Var1      Approved  \n",
       "count  42004.000000   22276.000000  22276.000000  69713.000000  69713.000000  \n",
       "mean       3.890629      19.213570   1101.466242      3.948446      0.014631  \n",
       "std        1.167491       5.847136    752.661394      3.819214      0.120073  \n",
       "min        1.000000      11.990000    118.000000      0.000000      0.000000  \n",
       "25%        3.000000      15.250000    649.000000      0.000000      0.000000  \n",
       "50%        4.000000      18.000000    941.000000      2.000000      0.000000  \n",
       "75%        5.000000      20.000000   1295.000000      7.000000      0.000000  \n",
       "max        6.000000      37.000000  13556.000000     10.000000      1.000000  "
      ]
     },
     "execution_count": 9,
     "metadata": {},
     "output_type": "execute_result"
    }
   ],
   "source": [
    "sales_train.describe()"
   ]
  },
  {
   "cell_type": "code",
   "execution_count": 10,
   "id": "59334273",
   "metadata": {},
   "outputs": [
    {
     "name": "stdout",
     "output_type": "stream",
     "text": [
      "Index(['ID', 'Gender', 'DOB', 'Lead_Creation_Date', 'City_Code',\n",
      "       'City_Category', 'Employer_Code', 'Employer_Category1',\n",
      "       'Employer_Category2', 'Monthly_Income',\n",
      "       'Customer_Existing_Primary_Bank_Code', 'Primary_Bank_Type', 'Contacted',\n",
      "       'Source', 'Source_Category', 'Existing_EMI', 'Loan_Amount',\n",
      "       'Loan_Period', 'Interest_Rate', 'EMI', 'Var1'],\n",
      "      dtype='object')\n"
     ]
    }
   ],
   "source": [
    "print(sales_test.columns)\n"
   ]
  },
  {
   "cell_type": "code",
   "execution_count": 11,
   "id": "dc7f4260",
   "metadata": {},
   "outputs": [
    {
     "name": "stdout",
     "output_type": "stream",
     "text": [
      "Index(['ID', 'Gender', 'DOB', 'Lead_Creation_Date', 'City_Code',\n",
      "       'City_Category', 'Employer_Code', 'Employer_Category1',\n",
      "       'Employer_Category2', 'Monthly_Income',\n",
      "       'Customer_Existing_Primary_Bank_Code', 'Primary_Bank_Type', 'Contacted',\n",
      "       'Source', 'Source_Category', 'Existing_EMI', 'Loan_Amount',\n",
      "       'Loan_Period', 'Interest_Rate', 'EMI', 'Var1', 'Approved'],\n",
      "      dtype='object')\n"
     ]
    }
   ],
   "source": [
    "print(sales_train.columns)"
   ]
  },
  {
   "cell_type": "markdown",
   "id": "29c79278",
   "metadata": {},
   "source": [
    "# EXPLORATORY DATA ANALYSIS"
   ]
  },
  {
   "cell_type": "code",
   "execution_count": 12,
   "id": "09a022ea",
   "metadata": {},
   "outputs": [
    {
     "data": {
      "image/png": "[encoded data removed]",
      "text/plain": [
       "<Figure size 1500x500 with 3 Axes>"
      ]
     },
     "metadata": {},
     "output_type": "display_data"
    }
   ],
   "source": [
    "d1=sales_train.melt(id_vars=\"Approved\")\n",
    "data1=sales_train[['Loan_Period','City_Category','Interest_Rate']]\n",
    "fig , ax=plt.subplots(nrows = 1, ncols = 3, figsize=(15,5))\n",
    "for variable, subplot in zip(data1, ax.flatten()):\n",
    "        sns.histplot(x=sales_train[variable],data=d1, ax = subplot,hue=sales_train.Approved,discrete=True, multiple='stack')\n",
    "plt.show()"
   ]
  },
  {
   "cell_type": "markdown",
   "id": "5d1e6a6f",
   "metadata": {},
   "source": [
    "# FROM THE ABOVE PLOTS WE CAN UNDERSTAND THAT \n",
    "# 1) MAXIMUM NUMBERS OF LOAND WERE TAKEN OPTING 5 YEARS AS THE LOAN PERIOD AND THEN FOLLOWED BY 4 & 3 YEARS\n",
    "# 2) PEOPLE FROM A CATEGORY CITY ARE MAJORLY OPTING FOR LOANS WHERE B CATEGORY CITY PEOPLE ARE OPTING LESS NUMBER OF LOANS\n",
    "# 3) LOANS WITH 20% INTREST RATE ARE MAJORLY BEING APPLIED WHERE LOANS WITH 15% INTREST RATE ARE BEING MAJORLY APPROVED"
   ]
  },
  {
   "cell_type": "code",
   "execution_count": 13,
   "id": "ef279c1a",
   "metadata": {},
   "outputs": [
    {
     "data": {
      "image/png": "[encoded data removed]",
      "text/plain": [
       "<Figure size 1500x1500 with 2 Axes>"
      ]
     },
     "metadata": {},
     "output_type": "display_data"
    }
   ],
   "source": [
    "data1=sales_train.Gender.value_counts()\n",
    "data2=sales_train.Contacted.value_counts()\n",
    "fig, (ax1, ax2) = plt.subplots(1, 2,figsize=(15,15))\n",
    "ax1.pie(data1,autopct=\"%1.2f%%\",labels=data1.index)\n",
    "ax2.pie(data2,autopct=\"%1.2f%%\",labels=data2.index)\n",
    "plt.show()"
   ]
  },
  {
   "cell_type": "markdown",
   "id": "2ba28fba",
   "metadata": {},
   "source": [
    "# DATA PRE PROCESSING"
   ]
  },
  {
   "cell_type": "code",
   "execution_count": 85,
   "id": "6c01e52a",
   "metadata": {},
   "outputs": [],
   "source": [
    "sales_test[\"Approved\"]=\"test\""
   ]
  },
  {
   "cell_type": "code",
   "execution_count": 86,
   "id": "414398cc",
   "metadata": {},
   "outputs": [],
   "source": [
    "combined_sales=pd.concat([sales_train,sales_test],axis=0)"
   ]
  },
  {
   "cell_type": "code",
   "execution_count": 87,
   "id": "869e5149",
   "metadata": {},
   "outputs": [
    {
     "name": "stdout",
     "output_type": "stream",
     "text": [
      "<class 'pandas.core.frame.DataFrame'>\n",
      "Int64Index: 99750 entries, 0 to 30036\n",
      "Data columns (total 22 columns):\n",
      " #   Column                               Non-Null Count  Dtype  \n",
      "---  ------                               --------------  -----  \n",
      " 0   ID                                   99750 non-null  object \n",
      " 1   Gender                               99750 non-null  object \n",
      " 2   DOB                                  99732 non-null  object \n",
      " 3   Lead_Creation_Date                   99750 non-null  object \n",
      " 4   City_Code                            98622 non-null  object \n",
      " 5   City_Category                        98622 non-null  object \n",
      " 6   Employer_Code                        94127 non-null  object \n",
      " 7   Employer_Category1                   94127 non-null  object \n",
      " 8   Employer_Category2                   93757 non-null  float64\n",
      " 9   Monthly_Income                       99750 non-null  float64\n",
      " 10  Customer_Existing_Primary_Bank_Code  86322 non-null  object \n",
      " 11  Primary_Bank_Type                    86322 non-null  object \n",
      " 12  Contacted                            99750 non-null  object \n",
      " 13  Source                               99750 non-null  object \n",
      " 14  Source_Category                      99750 non-null  object \n",
      " 15  Existing_EMI                         99667 non-null  float64\n",
      " 16  Loan_Amount                          60170 non-null  float64\n",
      " 17  Loan_Period                          60170 non-null  float64\n",
      " 18  Interest_Rate                        31928 non-null  float64\n",
      " 19  EMI                                  31928 non-null  float64\n",
      " 20  Var1                                 99750 non-null  int64  \n",
      " 21  Approved                             99750 non-null  object \n",
      "dtypes: float64(7), int64(1), object(14)\n",
      "memory usage: 17.5+ MB\n"
     ]
    }
   ],
   "source": [
    "combined_sales.info()"
   ]
  },
  {
   "cell_type": "code",
   "execution_count": 88,
   "id": "d0789343",
   "metadata": {},
   "outputs": [
    {
     "data": {
      "text/plain": [
       "EMI                                    0.679920\n",
       "Interest_Rate                          0.679920\n",
       "Loan_Period                            0.396792\n",
       "Loan_Amount                            0.396792\n",
       "Primary_Bank_Type                      0.134617\n",
       "Customer_Existing_Primary_Bank_Code    0.134617\n",
       "Employer_Category2                     0.060080\n",
       "Employer_Code                          0.056371\n",
       "Employer_Category1                     0.056371\n",
       "City_Code                              0.011308\n",
       "City_Category                          0.011308\n",
       "Existing_EMI                           0.000832\n",
       "DOB                                    0.000180\n",
       "Var1                                   0.000000\n",
       "ID                                     0.000000\n",
       "Source_Category                        0.000000\n",
       "Source                                 0.000000\n",
       "Contacted                              0.000000\n",
       "Gender                                 0.000000\n",
       "Monthly_Income                         0.000000\n",
       "Lead_Creation_Date                     0.000000\n",
       "Approved                               0.000000\n",
       "dtype: float64"
      ]
     },
     "execution_count": 88,
     "metadata": {},
     "output_type": "execute_result"
    }
   ],
   "source": [
    "combined_sales.isnull().sum().sort_values(ascending=False)/combined_sales.shape[0]"
   ]
  },
  {
   "cell_type": "code",
   "execution_count": 89,
   "id": "480f162b",
   "metadata": {},
   "outputs": [],
   "source": [
    "objectcols=combined_sales.select_dtypes(include=\"object\")\n",
    "numericcols=combined_sales.select_dtypes(include=np.number)"
   ]
  },
  {
   "cell_type": "code",
   "execution_count": 90,
   "id": "fdd90343",
   "metadata": {},
   "outputs": [
    {
     "name": "stdout",
     "output_type": "stream",
     "text": [
      "<class 'pandas.core.frame.DataFrame'>\n",
      "Int64Index: 99750 entries, 0 to 30036\n",
      "Data columns (total 8 columns):\n",
      " #   Column              Non-Null Count  Dtype  \n",
      "---  ------              --------------  -----  \n",
      " 0   Employer_Category2  93757 non-null  float64\n",
      " 1   Monthly_Income      99750 non-null  float64\n",
      " 2   Existing_EMI        99667 non-null  float64\n",
      " 3   Loan_Amount         60170 non-null  float64\n",
      " 4   Loan_Period         60170 non-null  float64\n",
      " 5   Interest_Rate       31928 non-null  float64\n",
      " 6   EMI                 31928 non-null  float64\n",
      " 7   Var1                99750 non-null  int64  \n",
      "dtypes: float64(7), int64(1)\n",
      "memory usage: 6.8 MB\n"
     ]
    }
   ],
   "source": [
    "numericcols.info()"
   ]
  },
  {
   "cell_type": "code",
   "execution_count": 91,
   "id": "5dc8474c",
   "metadata": {},
   "outputs": [
    {
     "data": {
      "text/plain": [
       "Interest_Rate         0.679920\n",
       "EMI                   0.679920\n",
       "Loan_Amount           0.396792\n",
       "Loan_Period           0.396792\n",
       "Employer_Category2    0.060080\n",
       "Existing_EMI          0.000832\n",
       "Monthly_Income        0.000000\n",
       "Var1                  0.000000\n",
       "dtype: float64"
      ]
     },
     "execution_count": 91,
     "metadata": {},
     "output_type": "execute_result"
    }
   ],
   "source": [
    "numericcols.isnull().sum().sort_values(ascending=False)/numericcols.shape[0]"
   ]
  },
  {
   "cell_type": "code",
   "execution_count": 92,
   "id": "d682dc84",
   "metadata": {},
   "outputs": [],
   "source": [
    "from sklearn.experimental import enable_iterative_imputer"
   ]
  },
  {
   "cell_type": "code",
   "execution_count": 93,
   "id": "499c130a",
   "metadata": {},
   "outputs": [],
   "source": [
    "from sklearn.impute import IterativeImputer"
   ]
  },
  {
   "cell_type": "code",
   "execution_count": 23,
   "id": "fd244c20",
   "metadata": {},
   "outputs": [],
   "source": [
    "from sklearn.tree import DecisionTreeRegressor"
   ]
  },
  {
   "cell_type": "code",
   "execution_count": 24,
   "id": "d48a668a",
   "metadata": {},
   "outputs": [],
   "source": [
    "imputer=IterativeImputer(estimator=DecisionTreeRegressor(),initial_strategy=\"mean\",max_iter=10)"
   ]
  },
  {
   "cell_type": "code",
   "execution_count": 25,
   "id": "66611fb7",
   "metadata": {},
   "outputs": [],
   "source": [
    "numericcols_impute=imputer.fit_transform(numericcols)"
   ]
  },
  {
   "cell_type": "code",
   "execution_count": 26,
   "id": "cbc00816",
   "metadata": {},
   "outputs": [],
   "source": [
    "numericcols_impute=pd.DataFrame(numericcols_impute,columns=numericcols.columns)"
   ]
  },
  {
   "cell_type": "code",
   "execution_count": 27,
   "id": "e3f4c860",
   "metadata": {},
   "outputs": [
    {
     "name": "stdout",
     "output_type": "stream",
     "text": [
      "<class 'pandas.core.frame.DataFrame'>\n",
      "RangeIndex: 99750 entries, 0 to 99749\n",
      "Data columns (total 8 columns):\n",
      " #   Column              Non-Null Count  Dtype  \n",
      "---  ------              --------------  -----  \n",
      " 0   Employer_Category2  99750 non-null  float64\n",
      " 1   Monthly_Income      99750 non-null  float64\n",
      " 2   Existing_EMI        99750 non-null  float64\n",
      " 3   Loan_Amount         99750 non-null  float64\n",
      " 4   Loan_Period         99750 non-null  float64\n",
      " 5   Interest_Rate       99750 non-null  float64\n",
      " 6   EMI                 99750 non-null  float64\n",
      " 7   Var1                99750 non-null  float64\n",
      "dtypes: float64(8)\n",
      "memory usage: 6.1 MB\n"
     ]
    }
   ],
   "source": [
    "numericcols_impute.info()"
   ]
  },
  {
   "cell_type": "code",
   "execution_count": 94,
   "id": "bc58b88c",
   "metadata": {},
   "outputs": [],
   "source": [
    "from sklearn.preprocessing import StandardScaler"
   ]
  },
  {
   "cell_type": "code",
   "execution_count": 95,
   "id": "b998bca9",
   "metadata": {},
   "outputs": [],
   "source": [
    "scaler=StandardScaler()"
   ]
  },
  {
   "cell_type": "code",
   "execution_count": 96,
   "id": "580cb10b",
   "metadata": {},
   "outputs": [],
   "source": [
    "numericcols_scaled=scaler.fit_transform(numericcols_impute)"
   ]
  },
  {
   "cell_type": "code",
   "execution_count": 97,
   "id": "a9e3a7f4",
   "metadata": {},
   "outputs": [],
   "source": [
    "numericcols_scaled=pd.DataFrame(numericcols_scaled,columns=numericcols_impute.columns[0:8])"
   ]
  },
  {
   "cell_type": "code",
   "execution_count": 32,
   "id": "a70bfacb",
   "metadata": {},
   "outputs": [],
   "source": [
    "from sklearn.preprocessing import LabelEncoder"
   ]
  },
  {
   "cell_type": "code",
   "execution_count": 33,
   "id": "cae88545",
   "metadata": {},
   "outputs": [],
   "source": [
    "numericcols[\"Approved\"]=objectcols.Approved\n"
   ]
  },
  {
   "cell_type": "code",
   "execution_count": 34,
   "id": "8f8df2e4",
   "metadata": {},
   "outputs": [],
   "source": [
    "objectcols=objectcols.drop(\"Approved\",axis=1)"
   ]
  },
  {
   "cell_type": "code",
   "execution_count": 35,
   "id": "fb0a6dcd",
   "metadata": {},
   "outputs": [],
   "source": [
    "original=objectcols"
   ]
  },
  {
   "cell_type": "code",
   "execution_count": 36,
   "id": "6ee5d193",
   "metadata": {},
   "outputs": [],
   "source": [
    "mask=objectcols.isnull()"
   ]
  },
  {
   "cell_type": "code",
   "execution_count": 37,
   "id": "08188dfa",
   "metadata": {},
   "outputs": [],
   "source": [
    "objectcols=objectcols.astype(str).apply(LabelEncoder().fit_transform)"
   ]
  },
  {
   "cell_type": "code",
   "execution_count": 38,
   "id": "fa553199",
   "metadata": {},
   "outputs": [],
   "source": [
    "objectcols=objectcols.where(~mask,original)"
   ]
  },
  {
   "cell_type": "code",
   "execution_count": 39,
   "id": "8398eb46",
   "metadata": {},
   "outputs": [
    {
     "data": {
      "text/plain": [
       "Customer_Existing_Primary_Bank_Code    13428\n",
       "Primary_Bank_Type                      13428\n",
       "Employer_Code                           5623\n",
       "Employer_Category1                      5623\n",
       "City_Code                               1128\n",
       "City_Category                           1128\n",
       "DOB                                       18\n",
       "ID                                         0\n",
       "Gender                                     0\n",
       "Lead_Creation_Date                         0\n",
       "Contacted                                  0\n",
       "Source                                     0\n",
       "Source_Category                            0\n",
       "dtype: int64"
      ]
     },
     "execution_count": 39,
     "metadata": {},
     "output_type": "execute_result"
    }
   ],
   "source": [
    "objectcols.isnull().sum().sort_values(ascending=False)"
   ]
  },
  {
   "cell_type": "code",
   "execution_count": 40,
   "id": "32439526",
   "metadata": {},
   "outputs": [
    {
     "name": "stdout",
     "output_type": "stream",
     "text": [
      "<class 'pandas.core.frame.DataFrame'>\n",
      "Int64Index: 99750 entries, 0 to 30036\n",
      "Data columns (total 13 columns):\n",
      " #   Column                               Non-Null Count  Dtype \n",
      "---  ------                               --------------  ----- \n",
      " 0   ID                                   99750 non-null  int64 \n",
      " 1   Gender                               99750 non-null  int64 \n",
      " 2   DOB                                  99732 non-null  object\n",
      " 3   Lead_Creation_Date                   99750 non-null  int64 \n",
      " 4   City_Code                            98622 non-null  object\n",
      " 5   City_Category                        98622 non-null  object\n",
      " 6   Employer_Code                        94127 non-null  object\n",
      " 7   Employer_Category1                   94127 non-null  object\n",
      " 8   Customer_Existing_Primary_Bank_Code  86322 non-null  object\n",
      " 9   Primary_Bank_Type                    86322 non-null  object\n",
      " 10  Contacted                            99750 non-null  int64 \n",
      " 11  Source                               99750 non-null  int64 \n",
      " 12  Source_Category                      99750 non-null  int64 \n",
      "dtypes: int64(6), object(7)\n",
      "memory usage: 10.7+ MB\n"
     ]
    }
   ],
   "source": [
    "objectcols.info()"
   ]
  },
  {
   "cell_type": "code",
   "execution_count": 41,
   "id": "d6c7a154",
   "metadata": {},
   "outputs": [],
   "source": [
    "from sklearn.tree import DecisionTreeClassifier"
   ]
  },
  {
   "cell_type": "code",
   "execution_count": 42,
   "id": "ec6d825d",
   "metadata": {},
   "outputs": [],
   "source": [
    "imputer1=IterativeImputer(estimator=DecisionTreeClassifier(),initial_strategy=\"most_frequent\",max_iter=10)"
   ]
  },
  {
   "cell_type": "code",
   "execution_count": 43,
   "id": "8bf678c0",
   "metadata": {},
   "outputs": [
    {
     "name": "stderr",
     "output_type": "stream",
     "text": [
      "C:\\Users\\sadin\\anaconda3\\lib\\site-packages\\sklearn\\impute\\_iterative.py:699: ConvergenceWarning: [IterativeImputer] Early stopping criterion not reached.\n",
      "  warnings.warn(\n"
     ]
    }
   ],
   "source": [
    "objectcols_impute=imputer.fit_transform(objectcols)"
   ]
  },
  {
   "cell_type": "code",
   "execution_count": 44,
   "id": "fb362671",
   "metadata": {},
   "outputs": [],
   "source": [
    "objectcols_impute=pd.DataFrame(objectcols_impute,columns=objectcols.columns)"
   ]
  },
  {
   "cell_type": "code",
   "execution_count": 45,
   "id": "c47d5ac9",
   "metadata": {},
   "outputs": [
    {
     "name": "stdout",
     "output_type": "stream",
     "text": [
      "<class 'pandas.core.frame.DataFrame'>\n",
      "RangeIndex: 99750 entries, 0 to 99749\n",
      "Data columns (total 13 columns):\n",
      " #   Column                               Non-Null Count  Dtype  \n",
      "---  ------                               --------------  -----  \n",
      " 0   ID                                   99750 non-null  float64\n",
      " 1   Gender                               99750 non-null  float64\n",
      " 2   DOB                                  99750 non-null  float64\n",
      " 3   Lead_Creation_Date                   99750 non-null  float64\n",
      " 4   City_Code                            99750 non-null  float64\n",
      " 5   City_Category                        99750 non-null  float64\n",
      " 6   Employer_Code                        99750 non-null  float64\n",
      " 7   Employer_Category1                   99750 non-null  float64\n",
      " 8   Customer_Existing_Primary_Bank_Code  99750 non-null  float64\n",
      " 9   Primary_Bank_Type                    99750 non-null  float64\n",
      " 10  Contacted                            99750 non-null  float64\n",
      " 11  Source                               99750 non-null  float64\n",
      " 12  Source_Category                      99750 non-null  float64\n",
      "dtypes: float64(13)\n",
      "memory usage: 9.9 MB\n"
     ]
    }
   ],
   "source": [
    "objectcols_impute.info()"
   ]
  },
  {
   "cell_type": "code",
   "execution_count": 79,
   "id": "44a81beb",
   "metadata": {},
   "outputs": [],
   "source": [
    "combined_sales_clean=pd.concat([objectcols_impute,numericcols_scaled],axis=1)"
   ]
  },
  {
   "cell_type": "code",
   "execution_count": 80,
   "id": "9b9a13bf",
   "metadata": {},
   "outputs": [
    {
     "name": "stdout",
     "output_type": "stream",
     "text": [
      "<class 'pandas.core.frame.DataFrame'>\n",
      "RangeIndex: 99750 entries, 0 to 99749\n",
      "Data columns (total 21 columns):\n",
      " #   Column                               Non-Null Count  Dtype  \n",
      "---  ------                               --------------  -----  \n",
      " 0   ID                                   99750 non-null  float64\n",
      " 1   Gender                               99750 non-null  float64\n",
      " 2   DOB                                  99750 non-null  float64\n",
      " 3   Lead_Creation_Date                   99750 non-null  float64\n",
      " 4   City_Code                            99750 non-null  float64\n",
      " 5   City_Category                        99750 non-null  float64\n",
      " 6   Employer_Code                        99750 non-null  float64\n",
      " 7   Employer_Category1                   99750 non-null  float64\n",
      " 8   Customer_Existing_Primary_Bank_Code  99750 non-null  float64\n",
      " 9   Primary_Bank_Type                    99750 non-null  float64\n",
      " 10  Contacted                            99750 non-null  float64\n",
      " 11  Source                               99750 non-null  float64\n",
      " 12  Source_Category                      99750 non-null  float64\n",
      " 13  Employer_Category2                   99750 non-null  float64\n",
      " 14  Monthly_Income                       99750 non-null  float64\n",
      " 15  Existing_EMI                         99750 non-null  float64\n",
      " 16  Loan_Amount                          99750 non-null  float64\n",
      " 17  Loan_Period                          99750 non-null  float64\n",
      " 18  Interest_Rate                        99750 non-null  float64\n",
      " 19  EMI                                  99750 non-null  float64\n",
      " 20  Var1                                 99750 non-null  float64\n",
      "dtypes: float64(21)\n",
      "memory usage: 16.0 MB\n"
     ]
    }
   ],
   "source": [
    "combined_sales_clean.info()"
   ]
  },
  {
   "cell_type": "code",
   "execution_count": 81,
   "id": "70adeb9f",
   "metadata": {},
   "outputs": [],
   "source": [
    "combined_sales_clean=combined_sales_clean.reset_index()"
   ]
  },
  {
   "cell_type": "code",
   "execution_count": 82,
   "id": "5616b734",
   "metadata": {},
   "outputs": [],
   "source": [
    "numericcols=numericcols.reset_index()"
   ]
  },
  {
   "cell_type": "code",
   "execution_count": 83,
   "id": "cffed09b",
   "metadata": {},
   "outputs": [],
   "source": [
    "combined_sales_clean[\"Approved\"]=numericcols.Approved"
   ]
  },
  {
   "cell_type": "code",
   "execution_count": 100,
   "id": "f8b6b6f8",
   "metadata": {},
   "outputs": [
    {
     "name": "stdout",
     "output_type": "stream",
     "text": [
      "<class 'pandas.core.frame.DataFrame'>\n",
      "RangeIndex: 99750 entries, 0 to 99749\n",
      "Data columns (total 23 columns):\n",
      " #   Column                               Non-Null Count  Dtype  \n",
      "---  ------                               --------------  -----  \n",
      " 0   index                                99750 non-null  int64  \n",
      " 1   ID                                   99750 non-null  float64\n",
      " 2   Gender                               99750 non-null  float64\n",
      " 3   DOB                                  99750 non-null  float64\n",
      " 4   Lead_Creation_Date                   99750 non-null  float64\n",
      " 5   City_Code                            99750 non-null  float64\n",
      " 6   City_Category                        99750 non-null  float64\n",
      " 7   Employer_Code                        99750 non-null  float64\n",
      " 8   Employer_Category1                   99750 non-null  float64\n",
      " 9   Customer_Existing_Primary_Bank_Code  99750 non-null  float64\n",
      " 10  Primary_Bank_Type                    99750 non-null  float64\n",
      " 11  Contacted                            99750 non-null  float64\n",
      " 12  Source                               99750 non-null  float64\n",
      " 13  Source_Category                      99750 non-null  float64\n",
      " 14  Employer_Category2                   99750 non-null  float64\n",
      " 15  Monthly_Income                       99750 non-null  float64\n",
      " 16  Existing_EMI                         99750 non-null  float64\n",
      " 17  Loan_Amount                          99750 non-null  float64\n",
      " 18  Loan_Period                          99750 non-null  float64\n",
      " 19  Interest_Rate                        99750 non-null  float64\n",
      " 20  EMI                                  99750 non-null  float64\n",
      " 21  Var1                                 99750 non-null  float64\n",
      " 22  Approved                             99750 non-null  object \n",
      "dtypes: float64(21), int64(1), object(1)\n",
      "memory usage: 17.5+ MB\n"
     ]
    }
   ],
   "source": [
    "combined_sales_clean.info()"
   ]
  },
  {
   "cell_type": "code",
   "execution_count": 101,
   "id": "ebacccae",
   "metadata": {},
   "outputs": [],
   "source": [
    "train_clean=combined_sales_clean[combined_sales_clean.Approved!=\"test\"]\n",
    "test_clean=combined_sales_clean[combined_sales_clean.Approved==\"test\"]"
   ]
  },
  {
   "cell_type": "code",
   "execution_count": 102,
   "id": "12006f1a",
   "metadata": {},
   "outputs": [
    {
     "name": "stdout",
     "output_type": "stream",
     "text": [
      "<class 'pandas.core.frame.DataFrame'>\n",
      "Int64Index: 69713 entries, 0 to 69712\n",
      "Data columns (total 23 columns):\n",
      " #   Column                               Non-Null Count  Dtype  \n",
      "---  ------                               --------------  -----  \n",
      " 0   index                                69713 non-null  int64  \n",
      " 1   ID                                   69713 non-null  float64\n",
      " 2   Gender                               69713 non-null  float64\n",
      " 3   DOB                                  69713 non-null  float64\n",
      " 4   Lead_Creation_Date                   69713 non-null  float64\n",
      " 5   City_Code                            69713 non-null  float64\n",
      " 6   City_Category                        69713 non-null  float64\n",
      " 7   Employer_Code                        69713 non-null  float64\n",
      " 8   Employer_Category1                   69713 non-null  float64\n",
      " 9   Customer_Existing_Primary_Bank_Code  69713 non-null  float64\n",
      " 10  Primary_Bank_Type                    69713 non-null  float64\n",
      " 11  Contacted                            69713 non-null  float64\n",
      " 12  Source                               69713 non-null  float64\n",
      " 13  Source_Category                      69713 non-null  float64\n",
      " 14  Employer_Category2                   69713 non-null  float64\n",
      " 15  Monthly_Income                       69713 non-null  float64\n",
      " 16  Existing_EMI                         69713 non-null  float64\n",
      " 17  Loan_Amount                          69713 non-null  float64\n",
      " 18  Loan_Period                          69713 non-null  float64\n",
      " 19  Interest_Rate                        69713 non-null  float64\n",
      " 20  EMI                                  69713 non-null  float64\n",
      " 21  Var1                                 69713 non-null  float64\n",
      " 22  Approved                             69713 non-null  object \n",
      "dtypes: float64(21), int64(1), object(1)\n",
      "memory usage: 12.8+ MB\n"
     ]
    }
   ],
   "source": [
    "train_clean.info()"
   ]
  },
  {
   "cell_type": "code",
   "execution_count": 103,
   "id": "ada4887e",
   "metadata": {},
   "outputs": [],
   "source": [
    "train_clean=train_clean.drop([\"index\",\"ID\",\"DOB\"],axis=1)"
   ]
  },
  {
   "cell_type": "code",
   "execution_count": 104,
   "id": "964dd808",
   "metadata": {},
   "outputs": [],
   "source": [
    "# split data for model building\n",
    "y=train_clean.Approved\n",
    "X=train_clean.drop(\"Approved\",axis=1)"
   ]
  },
  {
   "cell_type": "code",
   "execution_count": 105,
   "id": "3f3de015",
   "metadata": {},
   "outputs": [],
   "source": [
    "y=y.astype(\"int64\")"
   ]
  },
  {
   "cell_type": "code",
   "execution_count": 106,
   "id": "b4a64038",
   "metadata": {},
   "outputs": [
    {
     "data": {
      "text/plain": [
       "0    68693\n",
       "1     1020\n",
       "Name: Approved, dtype: int64"
      ]
     },
     "execution_count": 106,
     "metadata": {},
     "output_type": "execute_result"
    }
   ],
   "source": [
    "y.value_counts()"
   ]
  },
  {
   "cell_type": "code",
   "execution_count": 107,
   "id": "11aa46f8",
   "metadata": {},
   "outputs": [
    {
     "data": {
      "text/plain": [
       "<AxesSubplot: >"
      ]
     },
     "execution_count": 107,
     "metadata": {},
     "output_type": "execute_result"
    },
    {
     "data": {
      "image/png": "[encoded data removed]",
      "text/plain": [
       "<Figure size 640x480 with 1 Axes>"
      ]
     },
     "metadata": {},
     "output_type": "display_data"
    }
   ],
   "source": [
    "y.value_counts().plot(kind=\"bar\") # imbalance data"
   ]
  },
  {
   "cell_type": "code",
   "execution_count": 108,
   "id": "dc436706",
   "metadata": {},
   "outputs": [],
   "source": [
    "from imblearn.over_sampling import BorderlineSMOTE"
   ]
  },
  {
   "cell_type": "code",
   "execution_count": 109,
   "id": "840c6271",
   "metadata": {},
   "outputs": [],
   "source": [
    "smote_border = BorderlineSMOTE(random_state = 42, kind = 'borderline-2')\n",
    "X_smoteborder, y_smoteborder = smote_border.fit_resample(\n",
    "X,y)"
   ]
  },
  {
   "cell_type": "code",
   "execution_count": 110,
   "id": "72cf6561",
   "metadata": {},
   "outputs": [
    {
     "data": {
      "text/plain": [
       "0    68693\n",
       "1    68693\n",
       "Name: Approved, dtype: int64"
      ]
     },
     "execution_count": 110,
     "metadata": {},
     "output_type": "execute_result"
    }
   ],
   "source": [
    "y_smoteborder.value_counts()"
   ]
  },
  {
   "cell_type": "code",
   "execution_count": 111,
   "id": "58132a18",
   "metadata": {},
   "outputs": [],
   "source": [
    "from sklearn.linear_model import LogisticRegression"
   ]
  },
  {
   "cell_type": "code",
   "execution_count": 112,
   "id": "17476716",
   "metadata": {},
   "outputs": [],
   "source": [
    "logit=LogisticRegression(max_iter=3000)"
   ]
  },
  {
   "cell_type": "code",
   "execution_count": 113,
   "id": "94e7189f",
   "metadata": {},
   "outputs": [],
   "source": [
    "logitmodel=logit.fit(X_smoteborder,y_smoteborder)"
   ]
  },
  {
   "cell_type": "code",
   "execution_count": 114,
   "id": "e9ef3699",
   "metadata": {},
   "outputs": [
    {
     "data": {
      "text/plain": [
       "0.7338011151063427"
      ]
     },
     "execution_count": 114,
     "metadata": {},
     "output_type": "execute_result"
    }
   ],
   "source": [
    "logitmodel.score(X_smoteborder,y_smoteborder)"
   ]
  },
  {
   "cell_type": "code",
   "execution_count": 154,
   "id": "eff86464",
   "metadata": {},
   "outputs": [],
   "source": [
    "logitpredict=logitmodel.predict(X_smoteborder)"
   ]
  },
  {
   "cell_type": "code",
   "execution_count": 155,
   "id": "61aed68a",
   "metadata": {},
   "outputs": [
    {
     "name": "stdout",
     "output_type": "stream",
     "text": [
      "              precision    recall  f1-score   support\n",
      "\n",
      "           0       0.74      0.72      0.73     68693\n",
      "           1       0.73      0.75      0.74     68693\n",
      "\n",
      "    accuracy                           0.73    137386\n",
      "   macro avg       0.73      0.73      0.73    137386\n",
      "weighted avg       0.73      0.73      0.73    137386\n",
      "\n"
     ]
    }
   ],
   "source": [
    "print(classification_report(y_smoteborder,logitpredict))"
   ]
  },
  {
   "cell_type": "code",
   "execution_count": 156,
   "id": "c2374c5d",
   "metadata": {},
   "outputs": [
    {
     "data": {
      "text/plain": [
       "<sklearn.metrics._plot.roc_curve.RocCurveDisplay at 0x1b3d17e00a0>"
      ]
     },
     "execution_count": 156,
     "metadata": {},
     "output_type": "execute_result"
    },
    {
     "data": {
      "image/png": "[encoded data removed]",
      "text/plain": [
       "<Figure size 640x480 with 1 Axes>"
      ]
     },
     "metadata": {},
     "output_type": "display_data"
    }
   ],
   "source": [
    "RocCurveDisplay.from_estimator(logit,X_smoteborder,y_smoteborder)"
   ]
  },
  {
   "cell_type": "code",
   "execution_count": 118,
   "id": "41f535a0",
   "metadata": {},
   "outputs": [],
   "source": [
    "from sklearn.tree import DecisionTreeClassifier"
   ]
  },
  {
   "cell_type": "code",
   "execution_count": 119,
   "id": "e4ce72d2",
   "metadata": {},
   "outputs": [],
   "source": [
    "tree=DecisionTreeClassifier(max_depth=8)"
   ]
  },
  {
   "cell_type": "code",
   "execution_count": 120,
   "id": "28e49bd6",
   "metadata": {},
   "outputs": [],
   "source": [
    "treemodel=tree.fit(X_smoteborder,y_smoteborder)"
   ]
  },
  {
   "cell_type": "code",
   "execution_count": 121,
   "id": "781cfd81",
   "metadata": {},
   "outputs": [
    {
     "data": {
      "text/plain": [
       "0.9328534202902771"
      ]
     },
     "execution_count": 121,
     "metadata": {},
     "output_type": "execute_result"
    }
   ],
   "source": [
    "treemodel.score(X_smoteborder,y_smoteborder)"
   ]
  },
  {
   "cell_type": "code",
   "execution_count": 157,
   "id": "a81bb71c",
   "metadata": {},
   "outputs": [],
   "source": [
    "treepredict=treemodel.predict(X_smoteborder)"
   ]
  },
  {
   "cell_type": "code",
   "execution_count": 158,
   "id": "15ac2afe",
   "metadata": {},
   "outputs": [
    {
     "name": "stdout",
     "output_type": "stream",
     "text": [
      "              precision    recall  f1-score   support\n",
      "\n",
      "           0       0.93      0.94      0.93     68693\n",
      "           1       0.94      0.92      0.93     68693\n",
      "\n",
      "    accuracy                           0.93    137386\n",
      "   macro avg       0.93      0.93      0.93    137386\n",
      "weighted avg       0.93      0.93      0.93    137386\n",
      "\n"
     ]
    }
   ],
   "source": [
    "print(classification_report(y_smoteborder,treepredict))"
   ]
  },
  {
   "cell_type": "code",
   "execution_count": 159,
   "id": "5784960c",
   "metadata": {},
   "outputs": [
    {
     "data": {
      "text/plain": [
       "<sklearn.metrics._plot.roc_curve.RocCurveDisplay at 0x1b3eaba1a00>"
      ]
     },
     "execution_count": 159,
     "metadata": {},
     "output_type": "execute_result"
    },
    {
     "data": {
      "image/png": "[encoded data removed]",
      "text/plain": [
       "<Figure size 640x480 with 1 Axes>"
      ]
     },
     "metadata": {},
     "output_type": "display_data"
    }
   ],
   "source": [
    "RocCurveDisplay.from_estimator(tree,X_smoteborder,y_smoteborder)"
   ]
  },
  {
   "cell_type": "code",
   "execution_count": 125,
   "id": "ed47237c",
   "metadata": {},
   "outputs": [],
   "source": [
    "from imblearn.over_sampling import RandomOverSampler\n",
    "from imblearn.over_sampling import SMOTEN\n",
    "from imblearn.over_sampling import SVMSMOTE\n",
    "from imblearn.over_sampling import KMeansSMOTE"
   ]
  },
  {
   "cell_type": "code",
   "execution_count": 126,
   "id": "9a1ed9a2",
   "metadata": {},
   "outputs": [],
   "source": [
    "#random over sampling\n",
    "random_os = RandomOverSampler(random_state = 42)\n",
    "X_random, y_random = random_os.fit_resample(X,y)"
   ]
  },
  {
   "cell_type": "code",
   "execution_count": 127,
   "id": "14c2e2f6",
   "metadata": {},
   "outputs": [
    {
     "name": "stdout",
     "output_type": "stream",
     "text": [
      "0    68693\n",
      "1     1020\n",
      "Name: Approved, dtype: int64\n",
      "0    68693\n",
      "1    68693\n",
      "Name: Approved, dtype: int64\n"
     ]
    }
   ],
   "source": [
    "print(y.value_counts())\n",
    "print(y_random.value_counts())"
   ]
  },
  {
   "cell_type": "markdown",
   "id": "0fc20462",
   "metadata": {},
   "source": [
    "SMOTEN"
   ]
  },
  {
   "cell_type": "code",
   "execution_count": 128,
   "id": "ed86efe9",
   "metadata": {},
   "outputs": [],
   "source": [
    "smote_os = SMOTEN(random_state = 42)\n",
    "X_smote, y_smote = smote_os.fit_resample(X,y)"
   ]
  },
  {
   "cell_type": "code",
   "execution_count": 129,
   "id": "bd222f14",
   "metadata": {},
   "outputs": [
    {
     "name": "stdout",
     "output_type": "stream",
     "text": [
      "0    68693\n",
      "1     1020\n",
      "Name: Approved, dtype: int64\n",
      "0    68693\n",
      "1    68693\n",
      "Name: Approved, dtype: int64\n"
     ]
    }
   ],
   "source": [
    "print(y.value_counts())\n",
    "print(y_smote.value_counts())"
   ]
  },
  {
   "cell_type": "markdown",
   "id": "f02418b1",
   "metadata": {},
   "source": [
    "SVMSMOTE"
   ]
  },
  {
   "cell_type": "code",
   "execution_count": 130,
   "id": "ae058b75",
   "metadata": {},
   "outputs": [],
   "source": [
    "smote_svm = SVMSMOTE(random_state = 42)\n",
    "X_smotesvm, y_smotesvm = smote_svm.fit_resample(X,y)"
   ]
  },
  {
   "cell_type": "code",
   "execution_count": 131,
   "id": "4a3833ac",
   "metadata": {},
   "outputs": [
    {
     "name": "stdout",
     "output_type": "stream",
     "text": [
      "0    68693\n",
      "1     1020\n",
      "Name: Approved, dtype: int64\n",
      "0    68693\n",
      "1    38237\n",
      "Name: Approved, dtype: int64\n"
     ]
    }
   ],
   "source": [
    "print(y.value_counts())\n",
    "print(y_smotesvm.value_counts())"
   ]
  },
  {
   "cell_type": "markdown",
   "id": "855fdb55",
   "metadata": {},
   "source": [
    "# LOGISTIC REGRESSION"
   ]
  },
  {
   "cell_type": "code",
   "execution_count": 150,
   "id": "56207974",
   "metadata": {},
   "outputs": [],
   "source": [
    "logit1=LogisticRegression(max_iter=2000)"
   ]
  },
  {
   "cell_type": "code",
   "execution_count": 151,
   "id": "1aa18c62",
   "metadata": {},
   "outputs": [],
   "source": [
    "random_logitmodel=logit1.fit(X_random,y_random)"
   ]
  },
  {
   "cell_type": "code",
   "execution_count": 152,
   "id": "b92848b1",
   "metadata": {},
   "outputs": [
    {
     "data": {
      "text/plain": [
       "0.7189669980929644"
      ]
     },
     "execution_count": 152,
     "metadata": {},
     "output_type": "execute_result"
    }
   ],
   "source": [
    "random_logitmodel.score(X_random,y_random)"
   ]
  },
  {
   "cell_type": "code",
   "execution_count": 153,
   "id": "5b1d6dff",
   "metadata": {},
   "outputs": [],
   "source": [
    "randompredict=random_logitmodel.predict(X_random)"
   ]
  },
  {
   "cell_type": "code",
   "execution_count": 160,
   "id": "8031cb3f",
   "metadata": {},
   "outputs": [
    {
     "name": "stdout",
     "output_type": "stream",
     "text": [
      "              precision    recall  f1-score   support\n",
      "\n",
      "           0       0.73      0.70      0.71     68693\n",
      "           1       0.71      0.74      0.73     68693\n",
      "\n",
      "    accuracy                           0.72    137386\n",
      "   macro avg       0.72      0.72      0.72    137386\n",
      "weighted avg       0.72      0.72      0.72    137386\n",
      "\n"
     ]
    }
   ],
   "source": [
    "print(classification_report(y_random,randompredict))"
   ]
  },
  {
   "cell_type": "code",
   "execution_count": 161,
   "id": "bed7e093",
   "metadata": {},
   "outputs": [
    {
     "data": {
      "text/plain": [
       "<sklearn.metrics._plot.roc_curve.RocCurveDisplay at 0x1b39c881430>"
      ]
     },
     "execution_count": 161,
     "metadata": {},
     "output_type": "execute_result"
    },
    {
     "data": {
      "image/png": "[encoded data removed]",
      "text/plain": [
       "<Figure size 640x480 with 1 Axes>"
      ]
     },
     "metadata": {},
     "output_type": "display_data"
    }
   ],
   "source": [
    "RocCurveDisplay.from_estimator(logit1,X_random,y_random)"
   ]
  },
  {
   "cell_type": "code",
   "execution_count": 162,
   "id": "04e704a8",
   "metadata": {},
   "outputs": [],
   "source": [
    "smote_model=logit1.fit(X_smote,y_smote)"
   ]
  },
  {
   "cell_type": "code",
   "execution_count": 164,
   "id": "d554ab65",
   "metadata": {},
   "outputs": [
    {
     "data": {
      "text/plain": [
       "0.9037019783675192"
      ]
     },
     "execution_count": 164,
     "metadata": {},
     "output_type": "execute_result"
    }
   ],
   "source": [
    "smote_model.score(X_smote,y_smote)"
   ]
  },
  {
   "cell_type": "code",
   "execution_count": 166,
   "id": "7f6f20b5",
   "metadata": {},
   "outputs": [],
   "source": [
    "smotepredict=smote_model.predict(X_smote)"
   ]
  },
  {
   "cell_type": "code",
   "execution_count": 167,
   "id": "52c9c030",
   "metadata": {},
   "outputs": [
    {
     "name": "stdout",
     "output_type": "stream",
     "text": [
      "              precision    recall  f1-score   support\n",
      "\n",
      "           0       0.92      0.89      0.90     68693\n",
      "           1       0.89      0.92      0.91     68693\n",
      "\n",
      "    accuracy                           0.90    137386\n",
      "   macro avg       0.90      0.90      0.90    137386\n",
      "weighted avg       0.90      0.90      0.90    137386\n",
      "\n"
     ]
    }
   ],
   "source": [
    "print(classification_report(y_smote,smotepredict))"
   ]
  },
  {
   "cell_type": "code",
   "execution_count": 168,
   "id": "ee23e251",
   "metadata": {},
   "outputs": [
    {
     "data": {
      "text/plain": [
       "<sklearn.metrics._plot.roc_curve.RocCurveDisplay at 0x1b39c986b50>"
      ]
     },
     "execution_count": 168,
     "metadata": {},
     "output_type": "execute_result"
    },
    {
     "data": {
      "image/png": "[encoded data removed]",
      "text/plain": [
       "<Figure size 640x480 with 1 Axes>"
      ]
     },
     "metadata": {},
     "output_type": "display_data"
    }
   ],
   "source": [
    "RocCurveDisplay.from_estimator(logit1,X_smote,y_smote)"
   ]
  },
  {
   "cell_type": "code",
   "execution_count": 169,
   "id": "d123fd98",
   "metadata": {},
   "outputs": [],
   "source": [
    "svmsmote_model=logit1.fit(X_smotesvm,y_smotesvm)"
   ]
  },
  {
   "cell_type": "code",
   "execution_count": 170,
   "id": "ce4da109",
   "metadata": {},
   "outputs": [
    {
     "data": {
      "text/plain": [
       "0.7551575797250538"
      ]
     },
     "execution_count": 170,
     "metadata": {},
     "output_type": "execute_result"
    }
   ],
   "source": [
    "svmsmote_model.score(X_smotesvm,y_smotesvm)"
   ]
  },
  {
   "cell_type": "code",
   "execution_count": 171,
   "id": "a1a1cbae",
   "metadata": {},
   "outputs": [],
   "source": [
    "svmpredict=svmsmote_model.predict(X_smotesvm)"
   ]
  },
  {
   "cell_type": "code",
   "execution_count": 172,
   "id": "75729140",
   "metadata": {},
   "outputs": [
    {
     "name": "stdout",
     "output_type": "stream",
     "text": [
      "              precision    recall  f1-score   support\n",
      "\n",
      "           0       0.80      0.82      0.81     68693\n",
      "           1       0.66      0.64      0.65     38237\n",
      "\n",
      "    accuracy                           0.76    106930\n",
      "   macro avg       0.73      0.73      0.73    106930\n",
      "weighted avg       0.75      0.76      0.75    106930\n",
      "\n"
     ]
    }
   ],
   "source": [
    "print(classification_report(y_smotesvm,svmpredict))"
   ]
  },
  {
   "cell_type": "code",
   "execution_count": 173,
   "id": "e465fe6f",
   "metadata": {},
   "outputs": [
    {
     "data": {
      "text/plain": [
       "<sklearn.metrics._plot.roc_curve.RocCurveDisplay at 0x1b39c916700>"
      ]
     },
     "execution_count": 173,
     "metadata": {},
     "output_type": "execute_result"
    },
    {
     "data": {
      "image/png": "[encoded data removed]",
      "text/plain": [
       "<Figure size 640x480 with 1 Axes>"
      ]
     },
     "metadata": {},
     "output_type": "display_data"
    }
   ],
   "source": [
    "RocCurveDisplay.from_estimator(logit1,X_smotesvm,y_smotesvm)"
   ]
  },
  {
   "cell_type": "markdown",
   "id": "0915227d",
   "metadata": {},
   "source": [
    "# DECISION TREE"
   ]
  },
  {
   "cell_type": "code",
   "execution_count": 188,
   "id": "7c1870a8",
   "metadata": {},
   "outputs": [],
   "source": [
    "tree1=DecisionTreeClassifier(max_depth=15)"
   ]
  },
  {
   "cell_type": "code",
   "execution_count": 189,
   "id": "013dc72c",
   "metadata": {},
   "outputs": [],
   "source": [
    "random_tree=tree1.fit(X_random,y_random)"
   ]
  },
  {
   "cell_type": "code",
   "execution_count": 190,
   "id": "4bc37aab",
   "metadata": {},
   "outputs": [
    {
     "data": {
      "text/plain": [
       "0.9280276010656108"
      ]
     },
     "execution_count": 190,
     "metadata": {},
     "output_type": "execute_result"
    }
   ],
   "source": [
    "random_tree.score(X_random,y_random)"
   ]
  },
  {
   "cell_type": "code",
   "execution_count": 191,
   "id": "73db71cf",
   "metadata": {},
   "outputs": [],
   "source": [
    "random_tree_predict=random_tree.predict(X_random)"
   ]
  },
  {
   "cell_type": "code",
   "execution_count": 192,
   "id": "6655af24",
   "metadata": {},
   "outputs": [
    {
     "name": "stdout",
     "output_type": "stream",
     "text": [
      "              precision    recall  f1-score   support\n",
      "\n",
      "           0       0.99      0.86      0.92     68693\n",
      "           1       0.88      0.99      0.93     68693\n",
      "\n",
      "    accuracy                           0.93    137386\n",
      "   macro avg       0.94      0.93      0.93    137386\n",
      "weighted avg       0.94      0.93      0.93    137386\n",
      "\n"
     ]
    }
   ],
   "source": [
    "print(classification_report(y_random,random_tree_predict))"
   ]
  },
  {
   "cell_type": "code",
   "execution_count": 193,
   "id": "fadd00ef",
   "metadata": {},
   "outputs": [
    {
     "data": {
      "text/plain": [
       "<sklearn.metrics._plot.roc_curve.RocCurveDisplay at 0x1b3e9b8faf0>"
      ]
     },
     "execution_count": 193,
     "metadata": {},
     "output_type": "execute_result"
    },
    {
     "data": {
      "image/png": "[encoded data removed]",
      "text/plain": [
       "<Figure size 640x480 with 1 Axes>"
      ]
     },
     "metadata": {},
     "output_type": "display_data"
    }
   ],
   "source": [
    "RocCurveDisplay.from_estimator(tree1,X_random,y_random)"
   ]
  },
  {
   "cell_type": "code",
   "execution_count": 201,
   "id": "c118e47c",
   "metadata": {},
   "outputs": [],
   "source": [
    "tree2=DecisionTreeClassifier(max_depth=5)"
   ]
  },
  {
   "cell_type": "code",
   "execution_count": 202,
   "id": "87d41252",
   "metadata": {},
   "outputs": [],
   "source": [
    "smote_tree=tree2.fit(X_smote,y_smote)"
   ]
  },
  {
   "cell_type": "code",
   "execution_count": 203,
   "id": "9c00bf62",
   "metadata": {},
   "outputs": [
    {
     "data": {
      "text/plain": [
       "0.9117304528845734"
      ]
     },
     "execution_count": 203,
     "metadata": {},
     "output_type": "execute_result"
    }
   ],
   "source": [
    "smote_tree.score(X_smote,y_smote)"
   ]
  },
  {
   "cell_type": "code",
   "execution_count": 204,
   "id": "56757d5d",
   "metadata": {},
   "outputs": [],
   "source": [
    "smote_tree_predict=smote_tree.predict(X_smote)"
   ]
  },
  {
   "cell_type": "code",
   "execution_count": 205,
   "id": "740eb345",
   "metadata": {},
   "outputs": [
    {
     "name": "stdout",
     "output_type": "stream",
     "text": [
      "              precision    recall  f1-score   support\n",
      "\n",
      "           0       0.92      0.90      0.91     68693\n",
      "           1       0.90      0.93      0.91     68693\n",
      "\n",
      "    accuracy                           0.91    137386\n",
      "   macro avg       0.91      0.91      0.91    137386\n",
      "weighted avg       0.91      0.91      0.91    137386\n",
      "\n"
     ]
    }
   ],
   "source": [
    "print(classification_report(y_smote,smote_tree_predict))"
   ]
  },
  {
   "cell_type": "code",
   "execution_count": 206,
   "id": "30654643",
   "metadata": {},
   "outputs": [
    {
     "data": {
      "text/plain": [
       "<sklearn.metrics._plot.roc_curve.RocCurveDisplay at 0x1b39bb857f0>"
      ]
     },
     "execution_count": 206,
     "metadata": {},
     "output_type": "execute_result"
    },
    {
     "data": {
      "image/png": "[encoded data removed]",
      "text/plain": [
       "<Figure size 640x480 with 1 Axes>"
      ]
     },
     "metadata": {},
     "output_type": "display_data"
    }
   ],
   "source": [
    "RocCurveDisplay.from_estimator(tree2,X_smote,y_smote)"
   ]
  },
  {
   "cell_type": "code",
   "execution_count": 210,
   "id": "8d304480",
   "metadata": {},
   "outputs": [],
   "source": [
    "tree3=DecisionTreeClassifier(max_depth=8)"
   ]
  },
  {
   "cell_type": "code",
   "execution_count": 211,
   "id": "4bccdbdf",
   "metadata": {},
   "outputs": [],
   "source": [
    "svm_tree=tree3.fit(X_smotesvm,y_smotesvm)"
   ]
  },
  {
   "cell_type": "code",
   "execution_count": 212,
   "id": "4ec2b2ae",
   "metadata": {},
   "outputs": [
    {
     "data": {
      "text/plain": [
       "0.9423641634714299"
      ]
     },
     "execution_count": 212,
     "metadata": {},
     "output_type": "execute_result"
    }
   ],
   "source": [
    "svm_tree.score(X_smotesvm,y_smotesvm)"
   ]
  },
  {
   "cell_type": "code",
   "execution_count": 213,
   "id": "3cde7a68",
   "metadata": {},
   "outputs": [],
   "source": [
    "svm_tree_predict=svm_tree.predict(X_smotesvm)"
   ]
  },
  {
   "cell_type": "code",
   "execution_count": 214,
   "id": "21d99247",
   "metadata": {},
   "outputs": [
    {
     "name": "stdout",
     "output_type": "stream",
     "text": [
      "              precision    recall  f1-score   support\n",
      "\n",
      "           0       0.96      0.96      0.96     68693\n",
      "           1       0.92      0.92      0.92     38237\n",
      "\n",
      "    accuracy                           0.94    106930\n",
      "   macro avg       0.94      0.94      0.94    106930\n",
      "weighted avg       0.94      0.94      0.94    106930\n",
      "\n"
     ]
    }
   ],
   "source": [
    "print(classification_report(y_smotesvm,svm_tree_predict))"
   ]
  },
  {
   "cell_type": "code",
   "execution_count": 215,
   "id": "ee6e578e",
   "metadata": {},
   "outputs": [
    {
     "data": {
      "text/plain": [
       "<sklearn.metrics._plot.roc_curve.RocCurveDisplay at 0x1b39ca3a100>"
      ]
     },
     "execution_count": 215,
     "metadata": {},
     "output_type": "execute_result"
    },
    {
     "data": {
      "image/png": "[encoded data removed]",
      "text/plain": [
       "<Figure size 640x480 with 1 Axes>"
      ]
     },
     "metadata": {},
     "output_type": "display_data"
    }
   ],
   "source": [
    "RocCurveDisplay.from_estimator(tree3,X_smotesvm,y_smotesvm)"
   ]
  },
  {
   "cell_type": "code",
   "execution_count": null,
   "id": "946af983",
   "metadata": {},
   "outputs": [],
   "source": []
  }
 ],
 "metadata": {
  "kernelspec": {
   "display_name": "Python 3 (ipykernel)",
   "language": "python",
   "name": "python3"
  },
  "language_info": {
   "codemirror_mode": {
    "name": "ipython",
    "version": 3
   },
   "file_extension": ".py",
   "mimetype": "text/x-python",
   "name": "python",
   "nbconvert_exporter": "python",
   "pygments_lexer": "ipython3",
   "version": "3.9.16"
  }
 },
 "nbformat": 4,
 "nbformat_minor": 5
}
